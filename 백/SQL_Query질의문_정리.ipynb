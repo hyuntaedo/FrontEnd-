{
  "nbformat": 4,
  "nbformat_minor": 0,
  "metadata": {
    "colab": {
      "name": "SQL_Query질의문 정리.ipynb",
      "provenance": [],
      "collapsed_sections": []
    },
    "kernelspec": {
      "name": "python3",
      "display_name": "Python 3"
    },
    "language_info": {
      "name": "python"
    }
  },
  "cells": [
    {
      "cell_type": "markdown",
      "metadata": {
        "id": "MzlS09s__JSm"
      },
      "source": [
        "# SQL Query"
      ]
    },
    {
      "cell_type": "markdown",
      "metadata": {
        "id": "mtV0hFvbbQNg"
      },
      "source": [
        "- DB 내용 \n",
        "    - Customers\t\n",
        "        - CustomerID\n",
        "        - CustomerName\n",
        "        - ContactName\n",
        "        - Address\n",
        "        - City\n",
        "        - PostalCode\n",
        "        - Country\n",
        "SELECT * FROM Customer;\n",
        "- 모든 Cusotmer의 행을 select해서 보여주는 것이다.\n",
        "\n",
        "SELECT CoustomerID FROM Coustomer;\n",
        "\n",
        "- Customer DB에서 Customer행만을  선택하여 보여준다.  \n",
        "\n",
        "SELECT * FROM Customer ORDER BY CustomerID ASC;\n",
        "\n",
        "- CustomerID를 오름차순으로 정렬하여 보여준다\n",
        "\n",
        "SELECT DISTINCT * FROM Customer;\n",
        "\n",
        "- Customer DB를 중복을 제거하여 보여준다.\n",
        "\n",
        "- 별칭\n",
        " - CustomerName AS 회원;\n",
        "   - 회원이름이라고 이름이 바뀌어진다.\n",
        "\n",
        "SELECT CustomerID AS 회원번호, CustomerName AS 회원이름 \n",
        "FROM Customers \n",
        "ORDER BY CustomerName ASC;\n",
        "\n",
        "- 별칭을 as로 하여 정할 수 있다.\n",
        "\n",
        "SELECT CustomerID+100 FROM Customers;\n",
        "\n",
        "- 산술연산이 가능하다(int형 컬럼에만 가능)\n"
      ]
    },
    {
      "cell_type": "markdown",
      "metadata": {
        "id": "9ORcKcVWg9yA"
      },
      "source": [
        "\"||\"으로 컬럼을 합치는것이 가능하다.\n"
      ]
    },
    {
      "cell_type": "markdown",
      "metadata": {
        "id": "JAopB-tpi5WJ"
      },
      "source": [
        "- 논리 연산이 가능하다.\n",
        "    - Ture and False = False\n",
        "    - True or False = True\n",
        "    - not True = False\n",
        "    - not False = True\n",
        "\n",
        "- 실제 쓰임\n",
        "    - SELECT 1 AND 2; -> 2\n",
        "    - SELECT 0 OR 0; -> 0\n",
        "- SELECT * FROM Customers WHERE CustomerID BETWEEN 30 AND 50;\n",
        "    - 내가 선택한것 중에 조건을 달아서 검색(여기서는 30부터 50까지만 검색)\n",
        "\n",
        "- IN연산자\n",
        "    - SLECT * FROM Customers WHERE CustomerID IN(10,20,30)\n",
        "        - ID가 10,20,30 인 것만 검색\n",
        "\n",
        "- LIKE 연산자\n",
        "    - SELECT * FROM Customers WHERE CustomerID LIKE '1';\n",
        "        - ID에 1인것만 검색\n",
        "    - SELECT * FROM Customers WHERE CustomerID LIKE '1_';\n",
        "        - ID에 1*(11,12,13...)인것을 검색\n",
        "    - SELECT * FROM Customers WHERE CustomerID LIKE '_1';\n",
        "        - ID에 *1(11,21,31)인것을 검색\n",
        "    - SELECT * FROM Customers WHERE CustomerID LIKE '1%';\n",
        "        - ID에 1다음에 오는 문자열을 모두 검색\n",
        "        - \"%1\"이라면 1 전에 오는 모든 문자열을 검색\n",
        "        - \"_\"라면 한글자(문자) 만 올 수 있음\n",
        "\n",
        "- IS NULL(데이터가 비어있는 모든것을 다 검색)\n"
      ]
    },
    {
      "cell_type": "markdown",
      "metadata": {
        "id": "-g-eCDFfk0S-"
      },
      "source": [
        "- SQL 비트연산\n",
        "    - SELECT 1 & 0 -> 0\n",
        "    - SELECT 1 & 1 -> 1\n",
        "    - SELECT 5 | 7 -> 7\n",
        "    - SELECT 5 & 7 -> 5\n",
        "\n",
        "- WHERE절 비교연산자\n",
        "    - SELECT CustomerID FROM Customers WHERE CustomerID >80;\n",
        "        - CustomerID가 80을 초과한 것만 검색\n",
        "    - SELECT CustomerID FROM Customers WHERE CustomerID =80;\n",
        "        - CustomerID가 80인 것만 출력\n",
        "    - SELECT * FROM Customers WHERE CustomerID>=50 AND City = 'London'\n",
        "        - Customers에서 CustomerID가 50이상인 것중에 City가 London인것만 출력\n",
        "    - SELECT * FROM Customers WHERE CustomerID>=50 OR City = \"London\"\n",
        "        - Customers에서 CustomerID가 50이상인것과 City가 London인것을 출력\n",
        "\n",
        "- 값을 바꾸는 행위 UPDATE\n",
        "    - UPDATE Customers\n",
        "    - SET CustomerName = \"하르방\", City =\"한라산\", Country =\"선계\"\n",
        "    - WEHRE CustomerID = 1;\n",
        "- UPDATE구문을 사용하면 값을 더이상 원래대로 돌릴 수 없다.\n",
        " \n",
        "    "
      ]
    },
    {
      "cell_type": "markdown",
      "metadata": {
        "id": "ezudAE1C9WkE"
      },
      "source": [
        "- 값을 지우는 행위 DEL\n",
        "    - DELETE FROM Customers WHERE Country=\"Germany\"\n",
        "        - Country가 Germany인 Customer가 삭제됨\n"
      ]
    },
    {
      "cell_type": "markdown",
      "metadata": {
        "id": "8-O9El1c9ogF"
      },
      "source": [
        "- TOP구문\n",
        "    - SELECT TOP 10 * FROM Customers;\n",
        "        - 위의 10개만 가져온다.\n",
        "    - SELECT TOP 10 % * FROM Customers;\n",
        "        - 위의 10%만 가져온다.\n",
        "- LIMIT구문\n",
        "    - SELECT * FROM Customers LIMIT 10;\n",
        "        - 끝의 10개를 가져온다.\n",
        "\n",
        "- mysql> SHOW database;\n",
        "- mysql> SHOW tables;\n",
        "- mysql> DESC table_name; "
      ]
    },
    {
      "cell_type": "markdown",
      "metadata": {
        "id": "php-fjdK--2n"
      },
      "source": [
        "# SQL  Function"
      ]
    },
    {
      "cell_type": "markdown",
      "metadata": {
        "id": "o2pbfch0_GSS"
      },
      "source": [
        "- SELECT CustomerID, CustomerName,\n",
        "- LOWER(Customers) AS 소문자,\n",
        "- UPPER(Customers) AS 대문자\n",
        "- FROM Customers;\n",
        "\n"
      ]
    },
    {
      "cell_type": "markdown",
      "metadata": {
        "id": "nEK7lK2FJ5r0"
      },
      "source": [
        "- SELECT UPPER('Hello World')\n",
        "\n",
        "- SUBSTR : 문자열 슬라이싱\n",
        "    - SELECT SUBSTR(\"Hello World\",1,5)\n",
        "        - 문자열을 슬라이싱하여 1부터 5번 문자까지 가져옴\n",
        "        - \"-\"를 사용하면 반대서부터 문자열을 읽음\n",
        "- COUNT : 문자열 세기\n",
        "    - SELECT COUNT(\"hello World);\n",
        "        - 문자열의 길이를 알려줌\n",
        "\n",
        "- REPLACE : 문자열 교체\n",
        "    - SELECT REPLACE('hello world','world',\"SQL\")\n",
        "        - world가 SQL로 교체된다.\n",
        "        \n",
        "- CONCAT : 문자열 합치기\n",
        "    - SELECT CONCAT(\"hello\",\"SQL\")\n",
        "        - hello SQL이 출력됨\n",
        "\n",
        "\n",
        "\n",
        "\n",
        "\n",
        "\n",
        "\n",
        "        \n"
      ]
    },
    {
      "cell_type": "markdown",
      "metadata": {
        "id": "GI13qs_APByV"
      },
      "source": [
        "# SQL 조건문"
      ]
    },
    {
      "cell_type": "markdown",
      "metadata": {
        "id": "4p69V-OHPIFX"
      },
      "source": [
        "- SELECT CASE WHEN \"GOOD\" = \"JOB\" THEN \"HELLO\" ELSE \"WORLD\" END;\n",
        "    - good과 job이 같다면 hello 아니면 world\n"
      ]
    },
    {
      "cell_type": "code",
      "metadata": {
        "id": "LSdhnS0cSMLT"
      },
      "source": [
        ""
      ],
      "execution_count": null,
      "outputs": []
    },
    {
      "cell_type": "code",
      "metadata": {
        "id": "3VQpQQvO8T9Q"
      },
      "source": [
        ""
      ],
      "execution_count": null,
      "outputs": []
    }
  ]
}