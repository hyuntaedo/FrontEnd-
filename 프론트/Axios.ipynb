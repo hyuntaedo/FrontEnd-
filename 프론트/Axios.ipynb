{
  "nbformat": 4,
  "nbformat_minor": 0,
  "metadata": {
    "colab": {
      "name": "Axios.ipynb",
      "provenance": []
    },
    "kernelspec": {
      "name": "python3",
      "display_name": "Python 3"
    },
    "language_info": {
      "name": "python"
    }
  },
  "cells": [
    {
      "cell_type": "markdown",
      "metadata": {
        "id": "ItQtNX53ZHzR"
      },
      "source": [
        "# Axios란?\n"
      ]
    },
    {
      "cell_type": "markdown",
      "metadata": {
        "id": "cMtOONqEZJ6o"
      },
      "source": [
        "Axios는 브라우저, node.js를 위한 promiseAPI를 활용하는 HTTP비동기 통신 라이브러리입니다.\n"
      ]
    },
    {
      "cell_type": "markdown",
      "metadata": {
        "id": "CVLQfAL0ZPEG"
      },
      "source": [
        "### 기능"
      ]
    },
    {
      "cell_type": "markdown",
      "metadata": {
        "id": "JLvSiYO9ZPve"
      },
      "source": [
        "- 브라우저 환경: XMLHttpRequests 요청 생성\n",
        "- Node.js 환경: http 요청 생성\n",
        "- Promise API 지원\n",
        "- 요청/응답 차단(Intercept)\n",
        "- 요청/응답 데이터 변환\n",
        "- 취소 요청\n",
        "- JSON 데이터 자동 변환\n",
        "- 사이트 간 요청 위조(XSRF) 보호를 위한 클라이언트 사이드 지원\n"
      ]
    },
    {
      "cell_type": "code",
      "metadata": {
        "id": "Jibjvqc3ZXnp"
      },
      "source": [
        ""
      ],
      "execution_count": null,
      "outputs": []
    }
  ]
}