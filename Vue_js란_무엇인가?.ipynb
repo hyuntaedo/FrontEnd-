{
  "nbformat": 4,
  "nbformat_minor": 0,
  "metadata": {
    "colab": {
      "name": "Vue.js란 무엇인가?.ipynb",
      "provenance": [],
      "collapsed_sections": [],
      "authorship_tag": "ABX9TyMhXBKpSSZxkCyWjM6jR6FY",
      "include_colab_link": true
    },
    "kernelspec": {
      "name": "python3",
      "display_name": "Python 3"
    },
    "language_info": {
      "name": "python"
    }
  },
  "cells": [
    {
      "cell_type": "markdown",
      "metadata": {
        "id": "view-in-github",
        "colab_type": "text"
      },
      "source": [
        "<a href=\"https://colab.research.google.com/github/hyuntaedo/FrontEnd-/blob/main/Vue_js%EB%9E%80_%EB%AC%B4%EC%97%87%EC%9D%B8%EA%B0%80%3F.ipynb\" target=\"_parent\"><img src=\"https://colab.research.google.com/assets/colab-badge.svg\" alt=\"Open In Colab\"/></a>"
      ]
    },
    {
      "cell_type": "markdown",
      "metadata": {
        "id": "YbQLy_R73cZ6"
      },
      "source": [
        "# Vue.js란 무엇인가\n"
      ]
    },
    {
      "cell_type": "markdown",
      "metadata": {
        "id": "BpnKSWrf3jb2"
      },
      "source": [
        "### MVVM패턴의 ViewModel레이어에 해당하는 화면단 라이브러리"
      ]
    },
    {
      "cell_type": "markdown",
      "metadata": {
        "id": "Dwds_8z63m8S"
      },
      "source": [
        "- 데이터 바인딩과 화면단위를 컴포넌트 형태로 제공하며 관련 API를 지원하는데에 궁극적인 목적이 있음\n",
        "- Angular에서 지원하는 양방향 데이터 바인딩을 동일하게 제공\n",
        "- 하지만 컴포넌트간의 통신의 기본 골격은 React의 단방향 데이터 흐름(부모->자식)을 사용\n",
        "- 다른 프런트엔드 프레임워크(Angular, React)와 비교했을 때, 상대적으로 가볍고 빠름\n",
        "- 문법이 단순하고 간결하며, 초기학습비용이 낮고 누구나 쉽게 접근가능\n"
      ]
    },
    {
      "cell_type": "markdown",
      "metadata": {
        "id": "YaFd0kYM38Re"
      },
      "source": [
        "### MVVM 패턴이란"
      ]
    },
    {
      "cell_type": "markdown",
      "metadata": {
        "id": "4W1G998w4BTx"
      },
      "source": [
        "- 위키에 명시된 것 처럼, Backend로직과 Client의 마크업&데이터 표현단을 분리하기 위한 구조로 전통적인 MVC 패턴의 방식에서 기인\n",
        "- 간단하게 생각해서 화면 앞단의 화면동작 관련 로직과 뒷단의 DB데이터 처리 및 서버로직을 분리하고, 뒷단에서 넘어온 데이터를 Model에 담아, View로 넘어주는 중간지점이다.\n"
      ]
    },
    {
      "cell_type": "markdown",
      "metadata": {
        "id": "dGqLmrE44UIr"
      },
      "source": [
        "### Vue Instance 생성자"
      ]
    },
    {
      "cell_type": "markdown",
      "metadata": {
        "id": "o9DXKRm98TO1"
      },
      "source": [
        "```\n",
        "new Vue({\n",
        "    //instance option properties\n",
        "    template :\" \",\n",
        "    el:\" \",\n",
        "    methods:{}\n",
        "    //....\n",
        "})\n",
        "```"
      ]
    },
    {
      "cell_type": "markdown",
      "metadata": {
        "id": "DCHIErj28jdF"
      },
      "source": [
        "### Vue Instance 라이프사이클 초기화"
      ]
    },
    {
      "cell_type": "markdown",
      "metadata": {
        "id": "GdBjHNje8mgj"
      },
      "source": [
        "- 인스턴스가 생성될 때 아래의 초기화 작업을 수행한다.\n",
        "  - 데이터 관찰\n",
        "  - 템플릿 컴파일\n",
        "  - DOM에 객체 연결\n",
        "  - 데이터 변경 시 DOM 업데이트\n"
      ]
    },
    {
      "cell_type": "markdown",
      "metadata": {
        "id": "wbiHOH1W8txZ"
      },
      "source": [
        "이 초기화 작업 외에도 개발자가 의도하는 커스텀 로직을 아래와 같이 추가할 수 있다.\n"
      ]
    },
    {
      "cell_type": "markdown",
      "metadata": {
        "id": "KhQcopm49H7q"
      },
      "source": [
        "```\n",
        "new Vue({\n",
        "    data :{\n",
        "        a :1\n",
        "    },\n",
        "    created:function(){\n",
        "        console.log(\"a is :\" + this.a)\n",
        "});\n",
        "```"
      ]
    },
    {
      "cell_type": "markdown",
      "metadata": {
        "id": "SiXBV5UK9S4i"
      },
      "source": [
        "- 위의 `create` 이외에도 life-cycle단계에 따라, `mounted`, `updated`,`destoryed`등을 사용할 수 있다.\n",
        "- 이 life-cycle 초기화 method로 커스텀 로직을 수행하기 때문에, 뷰에서는 따로 Controller를 갖고 있지 않다.\n"
      ]
    },
    {
      "cell_type": "markdown",
      "metadata": {
        "id": "sRkGOnKh9l_8"
      },
      "source": [
        "### Vue Component"
      ]
    },
    {
      "cell_type": "markdown",
      "metadata": {
        "id": "4I07dLvs9og-"
      },
      "source": [
        "컴포넌트 등록은 아래와 같이 가능하다.\n",
        "\n",
        "```\n",
        "<div id=\"app\">\n",
        "<my-component></my-component>\n",
        "</div>\n",
        "\n",
        "new Vue({\n",
        "    el:\"#app\",\n",
        "    compoenent:{\n",
        "        \"my-component\":{\n",
        "            template:\"<div>A custom component!<div>\"\n",
        "        }\n",
        "    }\n",
        "})'\n",
        "```"
      ]
    },
    {
      "cell_type": "markdown",
      "metadata": {
        "id": "zSXcvASR9_o6"
      },
      "source": [
        "### Global or Local Compoenent\n"
      ]
    },
    {
      "cell_type": "markdown",
      "metadata": {
        "id": "daqEd7E1-xgS"
      },
      "source": [
        "아래의 컴포넌트 등록 방식은 전역 컴포넌트 등록 방식이다.\n",
        "\n",
        "```\n",
        "Vue.component('my-component',{\n",
        "    //컴포넌트 내용\n",
        "    template:'',\n",
        "    ...\n",
        "})\n",
        "```\n",
        "아래와 같이 지역 컴포넌트로도 등록할 수 있다.\n",
        "```\n",
        "var cmp = {\n",
        "    //컴포넌트 내용\n",
        "    template:'',\n",
        "    ...\n",
        "}\n",
        "new Vue({\n",
        "    component:{\n",
        "        'my-cmp':cmp\n",
        "    }\n",
        "})\n",
        "```"
      ]
    },
    {
      "cell_type": "markdown",
      "metadata": {
        "id": "F12xEjCo_Mlu"
      },
      "source": [
        "### 부모와 자식 컴포넌트 관계\n"
      ]
    },
    {
      "cell_type": "markdown",
      "metadata": {
        "id": "L5Pgx_dZC_Rc"
      },
      "source": [
        "- 컴포넌트 관계도에서 상-하 관계에있는 컴포넌트의 통신은\n",
        "  - 위에서 아래로는 데이터(props)를 내리고\n",
        "  - 아래에서 위로는 이벤트를 올린다(event emit)\n"
      ]
    },
    {
      "cell_type": "markdown",
      "metadata": {
        "id": "a2GfF-BXDHDM"
      },
      "source": [
        "### Props"
      ]
    },
    {
      "cell_type": "markdown",
      "metadata": {
        "id": "K6t_mJHnDImf"
      },
      "source": [
        "- props는 상위 컴포넌트에서 하위 컴포넌트로 내리는 데이터 속성을 의미한다.\n",
        "- 이렇게 하는 이유는 모든 컴포넌트가 각 컴포넌트 자체의 스코프를 갖고 있어 다른 컴포넌트의 값을 바로 참조할 수없기 때문이다.\n"
      ]
    },
    {
      "cell_type": "markdown",
      "metadata": {
        "id": "8ZboT2JfHrbr"
      },
      "source": [
        "```\n",
        "<div id=\"app\">\n",
        "    <!-- 하위 컴포넌트에 상위 컴포넌트가 갖고 있는 message를 전달함 -->\n",
        "    <child-component v-bind:propsdata=\"message\"></child-component>\n",
        "</div>\n",
        "\n",
        "//하위 컴포넌트\n",
        "Vue.component({\n",
        "    //상위 컴포넌트의 data속성인 message를 propsdata라는 속성으로 넘겨받음\n",
        "    props:[\"propsdata\"]\n",
        "    template:\"<p>{{propsdata}}</p>\"\n",
        "});\n",
        "\n",
        "//상위 컴포넌트\n",
        "var app = new Vue({\n",
        "    el:\"#app\",\n",
        "    data:{\n",
        "        message:\"Hello Vue!, from Parent Component\"\n",
        "    }\n",
        "})\n",
        "```"
      ]
    },
    {
      "cell_type": "markdown",
      "metadata": {
        "id": "moRDIerpIQ5z"
      },
      "source": [
        "주의점 : props변수명은 카멜기법으로 정의하면 html태그에서는 케밥기법으로 선언해야한다.\n"
      ]
    },
    {
      "cell_type": "markdown",
      "metadata": {
        "id": "i5kP0PFNJY-O"
      },
      "source": [
        "### 같은 레벨의 컴포넌트 간 통신"
      ]
    },
    {
      "cell_type": "markdown",
      "metadata": {
        "id": "CktXR-4EJc4W"
      },
      "source": [
        "- 동일한 상위 컴포넌트를 가진 하위 컴포넌트들 간의 통신은 아래와 같이 해야한다.\n",
        "  - Child(하위) -> Parent(상위) -> Children(하위 2개)\n",
        "참고 : 컴포넌트간의 직접적인 통신은 불가능하도록 되어있는게 Vue의 기본 구조\n"
      ]
    },
    {
      "cell_type": "markdown",
      "metadata": {
        "id": "txMofgUkJoX_"
      },
      "source": [
        "### Event Bus\n"
      ]
    },
    {
      "cell_type": "markdown",
      "metadata": {
        "id": "92f_v4dsJphR"
      },
      "source": [
        "상위- 하위의 관계가 아닌 컴포넌트간의 통신을 위해서 EventBus를 활용할 수 있다.\n"
      ]
    },
    {
      "cell_type": "markdown",
      "metadata": {
        "id": "GHMlKadZJu1Q"
      },
      "source": [
        "Event Bus를 사용하기 위한 새로운 Vue instance를 아래와 같이 생성한다.\n",
        "```\n",
        "var eventBus = new Vue();\n",
        "\n",
        "new Vue({\n",
        "    //...\n",
        "})\n",
        "```\n",
        "이벤트를 발생시킬 컴포넌트에서 `$emit()` 호출\n",
        "```\n",
        "eventBus.$emit(\"refresh\",10)\n",
        "```\n",
        "이벤트를 받을 컴포넌트에서 `$on()`이벤트 수신\n",
        "```\n",
        "new Vue({\n",
        "    created: function(){\n",
        "        eventBus.$on(\"refresh\",function(data)}\n",
        "        console.log(data);\n",
        "        });\n",
        "    }\n",
        "});\n",
        "```\n",
        "만약 eventBus의 콜백함수 안에서 해당 컴포넌트의 메서드를 참고하려면 `vm`사용\n",
        "```\n",
        "new Vue({\n",
        "    methods:{\n",
        "        callAnyMethod(){\n",
        "            //...\n",
        "        }\n",
        "    },\n",
        "    created(){\n",
        "        var vm = this;\n",
        "        eventBus.$on(\"refresh\",function(data){\n",
        "            console.log(this);\n",
        "            vm.callAnyMethod();\n",
        "        });\n",
        "    };\n",
        "})\n",
        "```\n"
      ]
    },
    {
      "cell_type": "markdown",
      "metadata": {
        "id": "BHx8d3SpLkZ9"
      },
      "source": [
        "### VM Routers"
      ]
    },
    {
      "cell_type": "markdown",
      "metadata": {
        "id": "-lcKog-NLpTD"
      },
      "source": [
        "- 뷰를 이용하여 싱글 페이지 어플리케이션을 제작할 때, 유용한 라우팅 라이브러리\n",
        "- 뷰 코어 라이브러리와 함께, 공식 라이브러리로 지원되고 있다."
      ]
    },
    {
      "cell_type": "markdown",
      "metadata": {
        "id": "cHthr4dvL0Bc"
      },
      "source": [
        "### 라우터 특성\n"
      ]
    },
    {
      "cell_type": "markdown",
      "metadata": {
        "id": "H-VLA3XeL4v8"
      },
      "source": [
        "Vue Router는 기본적으로 `'루트URL'/#/'라우터 이름'`의 구조로 되어있다.\n",
        "`example.com/#/user`\n",
        "여기서 #값을 제외하고 싶으면, 아래와같이  `mode`속성을 추가한다.\n",
        "```\n",
        "new Vue({\n",
        "    mode:\"history\"\n",
        "})\n",
        "```\n"
      ]
    },
    {
      "cell_type": "markdown",
      "metadata": {
        "id": "ieGj95JzMQvP"
      },
      "source": [
        "### Nested Routers"
      ]
    },
    {
      "cell_type": "markdown",
      "metadata": {
        "id": "TR344iXzMd9O"
      },
      "source": [
        "- 라우터로 화면을 이동할 때, 네스티드 라우터를 이용하여 지정된 하위 컴포넌트를 표시 할 수 있다.\n",
        "- 이때 컴포넌트의 구조는 가장 큰 상위의 컴포넌트가 하위의 컴포넌트를 포함하는 `Parent - Child`형태와 같다.\n"
      ]
    },
    {
      "cell_type": "markdown",
      "metadata": {
        "id": "A05HDzIRMsck"
      },
      "source": [
        "```\n",
        "<!-- localhost:5000 -->\n",
        "<div id=\"app\">\n",
        "  <router-view></router-view>\n",
        "</div>\n",
        "\n",
        "<!-- localhost:5000/home -->\n",
        "<div>\n",
        "  <p>Main Component rendered</p>\n",
        "  <app-header></app-header>\n",
        "</div>\n",
        "```\n",
        "\n",
        "```\n",
        "// localhost:5000/home 에 접근하면, Main과 Header 컴포넌트 둘다 표시된다.\n",
        "{\n",
        "    path:\"/home\",\n",
        "    component:Main,\n",
        "    children:[\n",
        "        {\n",
        "            path:'/',\n",
        "            component:AppHeader\n",
        "        },\n",
        "        {\n",
        "            path:\"/list\",\n",
        "            component:List\n",
        "        },\n",
        "    ]\n",
        "}\n",
        "```\n",
        "\n"
      ]
    },
    {
      "cell_type": "markdown",
      "metadata": {
        "id": "3sgIPVwgNku1"
      },
      "source": [
        "### Names View"
      ]
    },
    {
      "cell_type": "markdown",
      "metadata": {
        "id": "1H7awDfzP3A0"
      },
      "source": [
        "- 특정 URL로 이동했을 때, 여러개의 컴포넌트를 동시에 표시할 수 있는 방법이다.\n"
      ]
    },
    {
      "cell_type": "markdown",
      "metadata": {
        "id": "1mD8-M_CP8GI"
      },
      "source": [
        "```\n",
        "<div id=\"app\">\n",
        "<router-view name=\"appHeader\"></router-view>\n",
        "<router-view></router-view>\n",
        "<router-view name=\"appFooter\"></router-view>\n",
        "```\n",
        "```\n",
        "{\n",
        "    path : '/home',\n",
        "    //Named Router\n",
        "    component:{\n",
        "        appHeader:appHeader,\n",
        "        default:Body,\n",
        "        appFooter,appFooter\n",
        "    }\n",
        "},\n",
        "```\n"
      ]
    },
    {
      "cell_type": "markdown",
      "metadata": {
        "id": "CrRVi25AQWYf"
      },
      "source": [
        "### Nested Router vs Named Views"
      ]
    },
    {
      "cell_type": "markdown",
      "metadata": {
        "id": "iAri7jJ-QbXo"
      },
      "source": [
        "- 특정 URL에 지정된 1개의 컴포넌트가 여러개의 하위 컴포넌트를 갖는 것이 Nested Router\n",
        "- 특정 URL에 열개이 컴포넌트를 영역별로 지정하여 렌더링하는것이 Named View\n"
      ]
    },
    {
      "cell_type": "markdown",
      "metadata": {
        "id": "hWNS07RoQjYs"
      },
      "source": [
        "### Axios\n"
      ]
    },
    {
      "cell_type": "markdown",
      "metadata": {
        "id": "rLXSHDZpSK2m"
      },
      "source": [
        "- Vue에석 가장 많이사용되는, HTTP통신 라이브러리이다. CDN, NPM 설치방식을 모두 지원하며, 사용하기 좋은 속성과 API가 많이 있다. 무엇보다도 Promise기반이라, 코드를 간결하게 작성하기 용이하다.\n"
      ]
    },
    {
      "cell_type": "markdown",
      "metadata": {
        "id": "hBGNleylSVe8"
      },
      "source": [
        "```\n",
        "<script src=\"https://unpkg.com/axios/dist/axios.min.js\"></script>\n",
        "npm install axios\n",
        "```\n",
        "설치후 컴포넌트에서 아래와 같은 코드로 사용된다.\n",
        "```\n",
        "methods:{\n",
        "fetchData:fucntion(){\n",
        "        axios.get(\"URL주소\");\n",
        "    }\n",
        "}\n",
        "```\n"
      ]
    },
    {
      "cell_type": "markdown",
      "metadata": {
        "id": "QhUEsp_YTPzD"
      },
      "source": [
        "### Vue Template"
      ]
    },
    {
      "cell_type": "markdown",
      "metadata": {
        "id": "-MvG2dRmTSfX"
      },
      "source": [
        "- 탬플릿이란 뷰로 화면을 조작하기 위해 제공되는 문법이다.\n",
        "- 뷰 인스턴스에서 데이터를 화면에 연결하는 데이터 바인딩과 화면의 조작을 편하게 할 수 있는 디렉티브로 나뉜다.\n"
      ]
    },
    {
      "cell_type": "markdown",
      "metadata": {
        "id": "6geTsDYVTdYI"
      },
      "source": [
        "### Data Binding"
      ]
    },
    {
      "cell_type": "markdown",
      "metadata": {
        "id": "AlwCq60CTfVB"
      },
      "source": [
        "- 콧수염 문법인 {{}}을 활용하여 인스턴스의 data, computed, props 속성을 연결할 수 있다.\n",
        "- 그리고 간단한 자바스크립트 표현식도 화면에 표시할 수 있다.\n"
      ]
    },
    {
      "cell_type": "markdown",
      "metadata": {
        "id": "zFfo7oJKUq2C"
      },
      "source": [
        "```\n",
        "<div>{{ str }}</div>\n",
        "<div>{{ number + 1 }}</div>\n",
        "<div>{{ message.split('').reverse().join('') }}</div>\n",
        "```"
      ]
    },
    {
      "cell_type": "markdown",
      "metadata": {
        "id": "MBs9ru7ZT1WB"
      },
      "source": [
        "### Directive\n"
      ]
    },
    {
      "cell_type": "markdown",
      "metadata": {
        "id": "l5s1gYH4T3Ez"
      },
      "source": [
        "HTML 태그의 속성에 `v-`접두사가 붙은 특별한 속성으로 화면의 DOM조작을 쉽게 할 수 있는 문법들을 제공한다."
      ]
    },
    {
      "cell_type": "markdown",
      "metadata": {
        "id": "9isgeVp4Tr_H"
      },
      "source": [
        "```\n",
        "<!-- seen의 진위 값에 따라 p 태그가 화면에 표시 또는 미표시 -->\n",
        "<p v-if=\"seen\">Now you see me</p>\n",
        "<!-- 화면에 a 태그를 표시하는 시점에 뷰 인스턴스의 url 값을 href에 대입 -->\n",
        "<a v-bind:href=\"url\"></a>\n",
        "<!-- 버튼에 클릭 이벤트가 발생했을 때 doSomething이라는 메서드를 실행 -->\n",
        "<button v-on:click=\"doSomething\"></button>\n",
        "```"
      ]
    },
    {
      "cell_type": "markdown",
      "metadata": {
        "id": "QXeSCdb5TdZ5"
      },
      "source": [
        "### Filters\n"
      ]
    },
    {
      "cell_type": "markdown",
      "metadata": {
        "id": "8Ybkc_TjU14x"
      },
      "source": [
        "- 화면에 표시되는 텍스트의 형식을 편하게 바꿀 수 있도록, 고안된 기능이며 `|`을 이용하여 여러개의 필터를 사용할 수 있다.\n"
      ]
    },
    {
      "cell_type": "markdown",
      "metadata": {
        "id": "uXJxrePeU7x2"
      },
      "source": [
        "```\n",
        "<!-- message 값에 capitalize 필터를 적용하여 첫 글자를 대문자로 변경 -->\n",
        "{{ message | capitalize }}\n",
        "\n",
        "```\n",
        "```\n",
        "new Vue({\n",
        "  filters: {\n",
        "    capitalize: function(value) {\n",
        "      if (!value) return \"\";\n",
        "      value = value.toString();\n",
        "      return value.charAt(0).toUpperCase() + value.slice(1);\n",
        "    }\n",
        "  }\n",
        "});\n",
        "\n",
        "```"
      ]
    },
    {
      "cell_type": "markdown",
      "metadata": {
        "id": "wmqf99LxQW_h"
      },
      "source": [
        "### Single File Component\n"
      ]
    },
    {
      "cell_type": "markdown",
      "metadata": {
        "id": "UTlxpUzTV53y"
      },
      "source": [
        "- 특정화면의 HTML, CSS, JS코드를 한 파일에서 관리할 수 있는 방법\n",
        "- 파일 확장자는 `vue`이며 HTML파일에서 뷰 개발을 진행했을 때의 한계점을 극복할 수 있는 방법이기도 하다.\n",
        "\n",
        "- 한계점은 아래와 같다\n",
        "  - 모든 컴포넌트에 고유의 이름을 붙여야함\n",
        "  - js파일에서 template안의 html문법 강조가 되지않음\n",
        "  - js파일상에서 css스타일링작업이 거의 불가\n",
        "  - ES5를 이용하여 앱을 작성할경우 Babel빌드가 지원되지 않음\n",
        "\n",
        "- 싱글파일 컴포넌트로 개발하려면, Webpack과 같은 번들링도구가 필요하다. 싱글파일 컴포넌트의 기본 골격은 다음과 같다.\n",
        "\n",
        "```\n",
        "<template>\n",
        "  <!-- HTML -->\n",
        "</template>\n",
        "\n",
        "<script>\n",
        "  // Javascript\n",
        "</script>\n",
        "\n",
        "<style>\n",
        "  /* CSS */\n",
        "</style>\n",
        "\n",
        "```"
      ]
    },
    {
      "cell_type": "markdown",
      "metadata": {
        "id": "uheGj9sWQXB1"
      },
      "source": [
        "### Vue Loader"
      ]
    },
    {
      "cell_type": "markdown",
      "metadata": {
        "id": "HzrVV88hMseN"
      },
      "source": [
        "- 싱글파일 컴포넌트를 브라우저에서 실행할 수 있게 자바스크립트 파일로 변환해주는 웹팩 로더, 뷰 로더를 사용하면 다음과 같은 장점이 있다.\n",
        "  - ES6지원\n",
        "  - `<style>`과 `<template>`에 대한 각각의 웹팩로더 지원 ex) sass, jade\n",
        "  - 각 `.vue`컴포넌트의 스코프로 좁힌 css 스타일링 지원\n",
        "  - 웹팩의 모듈 번들링에 대한 지원과 의존성 관리가 제공\n",
        "  - 개발시 Hot Module Replacement(HMR)지원\n"
      ]
    }
  ]
}